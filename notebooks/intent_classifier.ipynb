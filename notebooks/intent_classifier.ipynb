{
 "cells": [
  {
   "cell_type": "code",
   "execution_count": 1,
   "id": "74bb8221",
   "metadata": {},
   "outputs": [
    {
     "name": "stdout",
     "output_type": "stream",
     "text": [
      "Intent: hipaa\n"
     ]
    }
   ],
   "source": [
    "import pandas as pd\n",
    "from sklearn.feature_extraction.text import TfidfVectorizer\n",
    "from sklearn.linear_model import LogisticRegression\n",
    "\n",
    "# Sample training data\n",
    "data = [\n",
    "    (\"What is HIPAA?\", \"hipaa\"),\n",
    "    (\"What are SOC2 controls?\", \"soc2\"),\n",
    "    (\"What is a breach?\", \"risk\"),\n",
    "    (\"How to encrypt PHI?\", \"hipaa\"),\n",
    "    (\"What does confidentiality mean?\", \"soc2\"),\n",
    "    (\"Vendor risk mitigation?\", \"risk\")\n",
    "]\n",
    "\n",
    "df = pd.DataFrame(data, columns=[\"query\", \"label\"])\n",
    "\n",
    "# Vectorize and train\n",
    "vectorizer = TfidfVectorizer()\n",
    "X = vectorizer.fit_transform(df[\"query\"])\n",
    "model = LogisticRegression()\n",
    "model.fit(X, df[\"label\"])\n",
    "\n",
    "# Test\n",
    "test_query = \"How do I prevent unauthorized access?\"\n",
    "X_test = vectorizer.transform([test_query])\n",
    "predicted = model.predict(X_test)\n",
    "print(\"Intent:\", predicted[0])"
   ]
  }
 ],
 "metadata": {
  "kernelspec": {
   "display_name": "Python 3",
   "language": "python",
   "name": "python3"
  },
  "language_info": {
   "codemirror_mode": {
    "name": "ipython",
    "version": 3
   },
   "file_extension": ".py",
   "mimetype": "text/x-python",
   "name": "python",
   "nbconvert_exporter": "python",
   "pygments_lexer": "ipython3",
   "version": "3.11.2"
  }
 },
 "nbformat": 4,
 "nbformat_minor": 5
}
